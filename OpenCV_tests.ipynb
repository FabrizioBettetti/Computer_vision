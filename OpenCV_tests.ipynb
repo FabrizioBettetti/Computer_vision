{
  "nbformat": 4,
  "nbformat_minor": 0,
  "metadata": {
    "colab": {
      "provenance": [],
      "authorship_tag": "ABX9TyO6aadyT2mXdtniaL5ggrR/",
      "include_colab_link": true
    },
    "kernelspec": {
      "name": "python3",
      "display_name": "Python 3"
    },
    "language_info": {
      "name": "python"
    }
  },
  "cells": [
    {
      "cell_type": "markdown",
      "metadata": {
        "id": "view-in-github",
        "colab_type": "text"
      },
      "source": [
        "<a href=\"https://colab.research.google.com/github/FabrizioBettetti/Computer_vision/blob/main/OpenCV_tests.ipynb\" target=\"_parent\"><img src=\"https://colab.research.google.com/assets/colab-badge.svg\" alt=\"Open In Colab\"/></a>"
      ]
    },
    {
      "cell_type": "code",
      "source": [
        "import cv2"
      ],
      "metadata": {
        "id": "a5GEzZwb7M3t"
      },
      "execution_count": null,
      "outputs": []
    },
    {
      "cell_type": "markdown",
      "source": [
        "#Contour features"
      ],
      "metadata": {
        "id": "BhLKszjT64Xk"
      }
    },
    {
      "cell_type": "markdown",
      "source": [
        "##Find contours"
      ],
      "metadata": {
        "id": "tOhb20rW7Ad1"
      }
    },
    {
      "cell_type": "code",
      "execution_count": null,
      "metadata": {
        "id": "6CMUyMon4Ksx"
      },
      "outputs": [],
      "source": [
        "grayscale_image = cv2.imread('Images/Square_marker.png', cv2.IMREAD_GRAYSCALE)\n",
        "\n",
        "#cv.THRESH_OTSU: threshold detected automatically (threshold parameter ignored)\n",
        "_, binary_image = cv2.threshold(grayscale_image, 0, 255, cv.THRESH_BINARY + cv.THRESH_OTSU)"
      ]
    },
    {
      "cell_type": "code",
      "source": [
        "#Binary image needed to find contours"
      ],
      "metadata": {
        "id": "i5rNkwjpA9Xy"
      },
      "execution_count": null,
      "outputs": []
    }
  ]
}